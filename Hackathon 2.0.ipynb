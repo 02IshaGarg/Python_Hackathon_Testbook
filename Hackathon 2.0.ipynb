{
 "cells": [
  {
   "cell_type": "markdown",
   "id": "ecc7ee7c",
   "metadata": {},
   "source": [
    "### Major qns 1"
   ]
  },
  {
   "cell_type": "markdown",
   "id": "144cb344",
   "metadata": {},
   "source": [
    "#### A) Write a program to print the following pattern: <br>\n",
    "&emsp; * <br>\n",
    "&emsp; ** <br>\n",
    "&emsp; *** <br>\n",
    "&emsp; **** <br>\n",
    "&emsp; *** <br>\n",
    "&emsp; ** <br>\n",
    "&emsp; *"
   ]
  },
  {
   "cell_type": "code",
   "execution_count": 14,
   "id": "f5fe8ed8",
   "metadata": {},
   "outputs": [
    {
     "name": "stdout",
     "output_type": "stream",
     "text": [
      "*\n",
      "**\n",
      "***\n",
      "****\n",
      "***\n",
      "**\n",
      "*\n"
     ]
    }
   ],
   "source": [
    "def ptrn(num):\n",
    "    for i in range(1,num):\n",
    "        print(i*'*')\n",
    "    for j in range(num,0,-1):\n",
    "        print(j*'*')\n",
    "ptrn(4)"
   ]
  },
  {
   "cell_type": "code",
   "execution_count": null,
   "id": "29a46bbb",
   "metadata": {},
   "outputs": [],
   "source": []
  },
  {
   "cell_type": "markdown",
   "id": "983c097b",
   "metadata": {},
   "source": [
    "#### B) Write a program to accept 5 even and 5 odd numbers from the user and display: <br> \n",
    "●sum of even numbers, <br>\n",
    "●product of odd numbers <br>\n",
    "●absolute difference of the sum and product.<br>\n",
    "\n",
    "#### Check if the final result (absolutedifference) is a prime number or not"
   ]
  },
  {
   "cell_type": "code",
   "execution_count": 2,
   "id": "bb534ce4",
   "metadata": {},
   "outputs": [
    {
     "name": "stdout",
     "output_type": "stream",
     "text": [
      "Enter 5 even and 5 odd numbers: 2 4 6 8 0 1 3 5 7 9\n",
      "Even numbers are [2, 4, 6, 8, 0] and sum of even numbers is 20\n",
      "Odd numbers are [1, 3, 5, 7, 9] and product of odd numbers is 945\n",
      "Absolute Difference of the Sum of even numbers and Product of odd numbers is 925\n",
      "The final result is not a prime number.\n"
     ]
    }
   ],
   "source": [
    "# Accept numbers\n",
    "user = list(map(int,input('Enter 5 even and 5 odd numbers: ').split()))\n",
    "even_list, odd_list = [], []\n",
    "summ, prod = 0,1\n",
    "for num in user:\n",
    "# Calculate the sum and product of even and odd numbers\n",
    "    if num%2==0:\n",
    "        even_list.append(num)\n",
    "        summ+=num\n",
    "    else:\n",
    "        prod = prod * num\n",
    "        odd_list.append(num)\n",
    "\n",
    "# Calculate the absolute difference between the sum and product\n",
    "diff = abs(summ - prod)\n",
    "\n",
    "print(f'Even numbers are {even_list} and sum of even numbers is {summ}')\n",
    "print(f'Odd numbers are {odd_list} and product of odd numbers is {prod}')\n",
    "print(f'Absolute Difference of the Sum of even numbers and Product of odd numbers is {diff}')\n",
    "# Check if the final result is a prime number\n",
    "for i in range(2, diff):\n",
    "    if diff % i == 0:\n",
    "        print(\"The final result is not a prime number.\")\n",
    "        break\n",
    "else:\n",
    "    print(\"The final result is a prime number.\")"
   ]
  },
  {
   "cell_type": "markdown",
   "id": "4d69d40f",
   "metadata": {},
   "source": [
    "#### C) Create a class named Item that holds data about an item in a retail store. The class should have the following three properties: <br> \n",
    "● name: the name property is a String object that holds the name of the item. <br>\n",
    "●price: the price property is a double variable that holds the item's retail price <br>\n",
    "●quantity:the quantity property is an int variable that holds the number of units currently in inventory <br>\n",
    "\n",
    "Write the following four methods to retrieve the values from the three fields and their current inventory value <br>\n",
    "●getName() returns the item name of type String <br>\n",
    "●getPrice() returns the price of the item of type double <br>\n",
    "●getQuantity() returns the number of quantities of type int <br>\n",
    "●getValue() that returns the current inventory value (quantity*price) of type double"
   ]
  },
  {
   "cell_type": "code",
   "execution_count": 15,
   "id": "362b1573",
   "metadata": {},
   "outputs": [],
   "source": [
    "class Item:\n",
    "    def __init__(self, name, price, quantity):\n",
    "        self.name = name\n",
    "        self.price = price\n",
    "        self.quantity = quantity\n",
    "\n",
    "    def getName(self):\n",
    "        return self.name\n",
    "\n",
    "    def getPrice(self):\n",
    "        return self.price\n",
    "\n",
    "    def getQuantity(self):\n",
    "        return self.quantity\n",
    "\n",
    "    def getValue(self):\n",
    "        return self.quantity * self.price\n"
   ]
  },
  {
   "cell_type": "code",
   "execution_count": null,
   "id": "8e4b66a6",
   "metadata": {},
   "outputs": [],
   "source": []
  },
  {
   "cell_type": "markdown",
   "id": "0f27a0e0",
   "metadata": {},
   "source": [
    "### Major qns 2"
   ]
  },
  {
   "cell_type": "markdown",
   "id": "6264486f",
   "metadata": {},
   "source": [
    "#### A) Ask the user number of rows to be generated of a series. Suppose user enters no.of rows = 5 then the series shall be:\n",
    "9 <br>\n",
    "99 <br>\n",
    "999 <br>\n",
    "9999 <br>\n",
    "99999 "
   ]
  },
  {
   "cell_type": "code",
   "execution_count": 16,
   "id": "8bfd8375",
   "metadata": {},
   "outputs": [
    {
     "name": "stdout",
     "output_type": "stream",
     "text": [
      "Enter a number: 5\n",
      "9\n",
      "99\n",
      "999\n",
      "9999\n",
      "99999\n"
     ]
    }
   ],
   "source": [
    "def series_9(num):\n",
    "    for i in range(1,num + 1):\n",
    "        print(i * '9')\n",
    "\n",
    "user = int(input('Enter a number: '))\n",
    "series_9(user)\n"
   ]
  },
  {
   "cell_type": "code",
   "execution_count": null,
   "id": "0c4c79dc",
   "metadata": {},
   "outputs": [],
   "source": []
  },
  {
   "cell_type": "markdown",
   "id": "cb9030e9",
   "metadata": {},
   "source": [
    "#### B) Write a program to accept a number from the user and check whether the number entered is prime or not."
   ]
  },
  {
   "cell_type": "code",
   "execution_count": 17,
   "id": "4fb15f89",
   "metadata": {},
   "outputs": [
    {
     "name": "stdout",
     "output_type": "stream",
     "text": [
      "Enter a number to check whether it is prime or not: 7\n"
     ]
    },
    {
     "data": {
      "text/plain": [
       "'7 is a Prime Number'"
      ]
     },
     "execution_count": 17,
     "metadata": {},
     "output_type": "execute_result"
    }
   ],
   "source": [
    "def is_prime(num):\n",
    "    if num < 2:\n",
    "        return 'Not a Prime Number'\n",
    "    for i in range(2, num):\n",
    "        if num % i == 0:\n",
    "            return f'{num} is not a Prime Number'\n",
    "    return f'{num} is a Prime Number'\n",
    "\n",
    "user = int(input('Enter a number to check whether it is prime or not: '))\n",
    "is_prime(user)\n"
   ]
  },
  {
   "cell_type": "code",
   "execution_count": null,
   "id": "9d6579de",
   "metadata": {},
   "outputs": [],
   "source": []
  },
  {
   "cell_type": "markdown",
   "id": "368f2679",
   "metadata": {},
   "source": [
    "#### C) Continued from Major Question 1. Write a separate class called Inventory with methods \n",
    "●\tgenerate()  -  creates three Item objects <br>\n",
    "●\tgetDetails() -  produces a neatly formatted table of the store's inventory displaying the three items, their current inventory value, and the total inventory value for the store. <br>\n",
    "\n",
    "Name &emsp; Price &emsp; Quantity &emsp; Value <br>\n",
    "======================================== <br>\n",
    "Stapler\t&emsp; &emsp; 2.25 &emsp; &emsp; 15 &emsp; &emsp; 33.75 <br>\n",
    "Paper &emsp; &emsp; 32.99 &emsp; &emsp; 255 &emsp; &emsp; 8412.45 <br>\n",
    "Binder &emsp; &emsp; 4.75 &emsp; &emsp; 9 &emsp; &emsp; &emsp; 42.75 <br>\n",
    "Total inventory is 8488.95\n"
   ]
  },
  {
   "cell_type": "code",
   "execution_count": 18,
   "id": "bffd268a",
   "metadata": {},
   "outputs": [
    {
     "name": "stdout",
     "output_type": "stream",
     "text": [
      "Name\t\tPrice\t\tQuantity\tValue\n",
      "===========================================\n",
      "Stapler\t\t2.25\t\t15\t\t33.75\n",
      "Paper\t\t32.99\t\t255\t\t8412.45\n",
      "Binder\t\t4.75\t\t9\t\t42.75\n",
      "Total inventory is 8488.95\n"
     ]
    }
   ],
   "source": [
    "class Inventory:\n",
    "    def __init__(self):\n",
    "        self.items = []\n",
    "\n",
    "    def generate(self):\n",
    "        # Create three Item objects\n",
    "        item1 = Item(\"Stapler\", 2.25, 15)\n",
    "        item2 = Item(\"Paper\", 32.99, 255)\n",
    "        item3 = Item(\"Binder\", 4.75, 9)\n",
    "\n",
    "        self.items = [item1, item2, item3]\n",
    "\n",
    "    \n",
    "    def getDetails(self):\n",
    "        total_value = 0\n",
    "\n",
    "        # Print the table header\n",
    "        print(\"Name\\t\\tPrice\\t\\tQuantity\\tValue\")\n",
    "        print(\"===========================================\")\n",
    "\n",
    "        for item in self.items:\n",
    "            name = item.getName()\n",
    "            price = item.getPrice()\n",
    "            quantity = item.getQuantity()\n",
    "            value = item.getValue()\n",
    "\n",
    "            # Print item details\n",
    "            print(f\"{name}\\t\\t{price}\\t\\t{quantity}\\t\\t{value}\")\n",
    "\n",
    "            total_value += value\n",
    "\n",
    "        # Print total inventory value\n",
    "        print(f\"Total inventory is {total_value}\")\n",
    "\n",
    "\n",
    "# Test the classes\n",
    "inventory = Inventory()\n",
    "inventory.generate()\n",
    "inventory.getDetails()\n"
   ]
  }
 ],
 "metadata": {
  "kernelspec": {
   "display_name": "Python 3 (ipykernel)",
   "language": "python",
   "name": "python3"
  },
  "language_info": {
   "codemirror_mode": {
    "name": "ipython",
    "version": 3
   },
   "file_extension": ".py",
   "mimetype": "text/x-python",
   "name": "python",
   "nbconvert_exporter": "python",
   "pygments_lexer": "ipython3",
   "version": "3.11.3"
  }
 },
 "nbformat": 4,
 "nbformat_minor": 5
}
